{
 "cells": [
  {
   "cell_type": "markdown",
   "id": "4dfa5b2a",
   "metadata": {},
   "source": [
    "### Konstantina Andronikou"
   ]
  },
  {
   "cell_type": "markdown",
   "id": "0c69992a",
   "metadata": {},
   "source": [
    "## Comparison of Names as a Robustness test"
   ]
  },
  {
   "cell_type": "code",
   "execution_count": 1,
   "id": "006c495f",
   "metadata": {},
   "outputs": [],
   "source": [
    "from allennlp_models.pretrained import load_predictor"
   ]
  },
  {
   "cell_type": "code",
   "execution_count": 2,
   "id": "ff60f9a4",
   "metadata": {},
   "outputs": [],
   "source": [
    "import checklist\n",
    "import logging \n",
    "import csv\n",
    "from checklist.editor import Editor\n",
    "from checklist.perturb import Perturb\n",
    "from checklist.test_types import MFT, INV, DIR\n",
    "from checklist.expect import Expect"
   ]
  },
  {
   "cell_type": "code",
   "execution_count": 3,
   "id": "47553a5c",
   "metadata": {},
   "outputs": [],
   "source": [
    "from checklist.pred_wrapper import PredictorWrapper"
   ]
  },
  {
   "cell_type": "markdown",
   "id": "da3b9b7c",
   "metadata": {},
   "source": [
    "### Western Names"
   ]
  },
  {
   "cell_type": "code",
   "execution_count": 4,
   "id": "5c8e4273",
   "metadata": {},
   "outputs": [],
   "source": [
    "#removing all warnings \n",
    "logging.getLogger('allennlp.common.params').disabled = True \n",
    "logging.getLogger('allennlp.nn.initializers').disabled = True \n",
    "logging.getLogger('allennlp.modules.token_embedders.embedding').disabled = True \n",
    "logging.getLogger('urllib3.connectionpool').disabled = True \n",
    "logging.getLogger('allennlp.common.plugins').disabled = True \n",
    "logging.getLogger('allennlp.common.model_card').disabled = True \n",
    "logging.getLogger('allennlp.models.archival').disabled = True \n",
    "logging.getLogger('allennlp.data.vocabulary').disabled = True \n",
    "logging.getLogger('cached_path').disabled = True\n",
    "srl_predictor = load_predictor('structured-prediction-srl')\n",
    "output = srl_predictor.predict(\"Maria Smith likes to eat pizza\")"
   ]
  },
  {
   "cell_type": "code",
   "execution_count": 5,
   "id": "77804427",
   "metadata": {},
   "outputs": [],
   "source": [
    "def predict_srl(data):\n",
    "    \n",
    "    pred = []\n",
    "    for d in data:\n",
    "        pred.append(srl_predictor.predict(d))\n",
    "    return pred\n",
    "\n",
    "predict_and_conf = PredictorWrapper.wrap_predict(predict_srl)"
   ]
  },
  {
   "cell_type": "code",
   "execution_count": 6,
   "id": "71f6ad98",
   "metadata": {},
   "outputs": [],
   "source": [
    "d = [\"Maria Smith likes to eat pizza\"]\n",
    "pred = predict_and_conf(d)"
   ]
  },
  {
   "cell_type": "code",
   "execution_count": 7,
   "id": "3d9e7d49",
   "metadata": {},
   "outputs": [],
   "source": [
    "def format_srl(x, pred, conf, label=None, meta=None):\n",
    "    \n",
    "    return pred['verbs'][0]['description']"
   ]
  },
  {
   "cell_type": "code",
   "execution_count": 8,
   "id": "9642d980",
   "metadata": {},
   "outputs": [],
   "source": [
    "def get_arg(pred, arg_target='ARG0'):\n",
    "    predicate_arguments = pred['verbs'][0]\n",
    "    words = pred['words']\n",
    "    tags = predicate_arguments['tags']\n",
    "    \n",
    "    arg_list = []\n",
    "    for t, w in zip(tags, words):\n",
    "        arg = t\n",
    "        if '-' in t:\n",
    "            arg = t.split('-')[1]\n",
    "        if arg == arg_target:\n",
    "            arg_list.append(w)\n",
    "    arg_set = set(arg_list)\n",
    "    return arg_set"
   ]
  },
  {
   "cell_type": "code",
   "execution_count": 9,
   "id": "ceb1a1ef",
   "metadata": {},
   "outputs": [],
   "source": [
    "def format_srl(x, pred, conf, label=None, meta=None):\n",
    "    results = []\n",
    "    predicate_structure = pred['verbs'][0]['description']\n",
    "        \n",
    "    return predicate_structure"
   ]
  },
  {
   "cell_type": "code",
   "execution_count": 10,
   "id": "9e4909bd",
   "metadata": {},
   "outputs": [],
   "source": [
    "def found_arg0_people(x, pred, conf, label=None, meta=None):\n",
    "\n",
    "    people = set([meta['first_name'],meta['last_name']])\n",
    "    arg_0 = get_arg(pred, arg_target='ARG0')\n",
    "\n",
    "    if arg_0 == people:\n",
    "        pass_ = True\n",
    "    else:\n",
    "        pass_ = False\n",
    "    return pass_\n",
    "\n",
    "\n",
    "expect_arg0 = Expect.single(found_arg0_people)"
   ]
  },
  {
   "cell_type": "code",
   "execution_count": 11,
   "id": "76c16749",
   "metadata": {
    "scrolled": true
   },
   "outputs": [],
   "source": [
    "\n",
    "editor = Editor()\n",
    "\n",
    "# create examples\n",
    "t = editor.template('{first_name} {last_name} likes to eat pizza', meta=True, nsamples=1000, remove_duplicates = True)\n",
    "\n",
    "# for k, v in t.items():\n",
    "#     print(k,v)"
   ]
  },
  {
   "cell_type": "code",
   "execution_count": 12,
   "id": "53621a13",
   "metadata": {},
   "outputs": [],
   "source": [
    "with open('Dataset_BiLSTM/Western_names.txt', 'w') as f:\n",
    "    print(t.data, file = f)"
   ]
  },
  {
   "cell_type": "code",
   "execution_count": 13,
   "id": "cfbfbb98",
   "metadata": {},
   "outputs": [
    {
     "name": "stdout",
     "output_type": "stream",
     "text": [
      "Predicting 999 examples\n",
      "Test cases:      999\n",
      "Fails (rate):    26 (2.6%)\n",
      "\n",
      "Example fails:\n",
      "[ARGM-DIS: Christine] [ARG0: Adams] [V: likes] [ARG1: to eat pizza]\n",
      "----\n",
      "[ARGM-ADV: Benjamin] [ARG0: Stewart] [V: likes] [ARG1: to eat pizza]\n",
      "----\n",
      "[ARG0: Julia] Lewis [V: likes] [ARG1: to eat pizza]\n",
      "----\n"
     ]
    }
   ],
   "source": [
    "test = MFT(**t, name = 'detect_arg0name_default_position', expect=expect_arg0)\n",
    "output = test.run(predict_and_conf)\n",
    "test.summary(format_example_fn=format_srl)\n",
    "i = test.results['preds']\n",
    "expect_for_i = test.results['expect_results']\n",
    "with open ('Output_BiLSTM/Western_names.csv','w') as f:\n",
    "    writer = csv.writer(f)\n",
    "    for result, exp in zip(i, expect_for_i):\n",
    "        \n",
    "        case = result['words']\n",
    "        exp = exp\n",
    "        writer.writerow([case, exp])\n",
    "#         print(case,exp)"
   ]
  },
  {
   "cell_type": "code",
   "execution_count": 14,
   "id": "d8a89d1d",
   "metadata": {},
   "outputs": [],
   "source": [
    "# the following piece of code was adapted from https://howtodoinjava.com/examples/python-print-to-file/\n",
    "import sys\n",
    " \n",
    "original_stdout = sys.stdout  \n",
    " \n",
    "with open('Predictions_BiLSTM/false_sentences_Western_names.txt', 'a') as f:\n",
    "    sys.stdout = f \n",
    "    print(test.summary(format_example_fn=format_srl), file = f)\n",
    "    # Reset the standard output\n",
    "    sys.stdout = original_stdout "
   ]
  },
  {
   "cell_type": "markdown",
   "id": "c870b75c",
   "metadata": {},
   "source": [
    "## Non-Western Names "
   ]
  },
  {
   "cell_type": "code",
   "execution_count": 15,
   "id": "efee5b02",
   "metadata": {},
   "outputs": [],
   "source": [
    "first = [x.split()[0] for x in editor.lexicons.male_from.Turkey +  editor.lexicons.female_from.Turkey]\n",
    "last = [x.split()[0] for x in editor.lexicons.last_from.Turkey]"
   ]
  },
  {
   "cell_type": "code",
   "execution_count": 16,
   "id": "ccdf1bf7",
   "metadata": {},
   "outputs": [],
   "source": [
    "with open('Dataset_BiLSTM/Non-western_names.txt', 'w') as f:\n",
    "    print(t.data, file = f)"
   ]
  },
  {
   "cell_type": "code",
   "execution_count": 17,
   "id": "1622bf43",
   "metadata": {},
   "outputs": [
    {
     "name": "stdout",
     "output_type": "stream",
     "text": [
      "Predicting 1000 examples\n",
      "Test cases:      1000\n",
      "Fails (rate):    29 (2.9%)\n",
      "\n",
      "Example fails:\n",
      "[ARG2: Halil] [V: Can] [ARG1: likes to eat pizza] .\n",
      "----\n",
      "Hasan [ARG0: Polat] [V: likes] [ARG1: to eat pizza] .\n",
      "----\n",
      "[V: Can] [ARG1: Doğan] likes to eat pizza .\n",
      "----\n"
     ]
    }
   ],
   "source": [
    "t = editor.template(\"{first_name} {last_name} likes to eat pizza.\", first_name=first, last_name=last, meta=True, nsamples=1000)\n",
    "test = MFT(**t, expect=expect_arg0)\n",
    "test.run(predict_and_conf)\n",
    "test.summary(format_example_fn=format_srl)\n",
    "i = test.results['preds']\n",
    "expect_for_i = test.results['expect_results']\n",
    "with open ('Output_BiLSTM/Non-Western_names.csv','w') as f:\n",
    "    writer = csv.writer(f)\n",
    "    for result, exp in zip(i, expect_for_i):\n",
    "        \n",
    "        case = result['words']\n",
    "        exp = exp\n",
    "        writer.writerow([case, exp])\n",
    "        #print(case,exp)"
   ]
  },
  {
   "cell_type": "code",
   "execution_count": 18,
   "id": "f719ef60",
   "metadata": {},
   "outputs": [],
   "source": [
    "# the following piece of code was adapted from https://howtodoinjava.com/examples/python-print-to-file/\n",
    "import sys\n",
    " \n",
    "original_stdout = sys.stdout  \n",
    " \n",
    "with open('Predictions_BiLSTM/false_sentences_Non-Western_names.txt', 'a') as f:\n",
    "    sys.stdout = f \n",
    "    print(test.summary(format_example_fn=format_srl), file = f)\n",
    "    # Reset the standard output\n",
    "    sys.stdout = original_stdout "
   ]
  }
 ],
 "metadata": {
  "kernelspec": {
   "display_name": "Python 3 (ipykernel)",
   "language": "python",
   "name": "python3"
  },
  "language_info": {
   "codemirror_mode": {
    "name": "ipython",
    "version": 3
   },
   "file_extension": ".py",
   "mimetype": "text/x-python",
   "name": "python",
   "nbconvert_exporter": "python",
   "pygments_lexer": "ipython3",
   "version": "3.9.7"
  }
 },
 "nbformat": 4,
 "nbformat_minor": 5
}
