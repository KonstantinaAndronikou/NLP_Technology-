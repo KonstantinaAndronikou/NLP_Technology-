{
 "cells": [
  {
   "cell_type": "markdown",
   "id": "01bebfef",
   "metadata": {},
   "source": [
    "### Konstantina Andronikou"
   ]
  },
  {
   "cell_type": "markdown",
   "id": "65ba9eed",
   "metadata": {},
   "source": [
    "## This notebook is implementing Negation as a Robustness test "
   ]
  },
  {
   "cell_type": "code",
   "execution_count": 1,
   "id": "ded143f3",
   "metadata": {},
   "outputs": [],
   "source": [
    "from allennlp_models.pretrained import load_predictor"
   ]
  },
  {
   "cell_type": "code",
   "execution_count": 2,
   "id": "da462e17",
   "metadata": {},
   "outputs": [],
   "source": [
    "import checklist\n",
    "import logging \n",
    "import csv\n",
    "from checklist.editor import Editor\n",
    "from checklist.perturb import Perturb\n",
    "from checklist.test_types import MFT, INV, DIR\n",
    "from checklist.expect import Expect"
   ]
  },
  {
   "cell_type": "code",
   "execution_count": 3,
   "id": "8281da0f",
   "metadata": {},
   "outputs": [],
   "source": [
    "from checklist.pred_wrapper import PredictorWrapper"
   ]
  },
  {
   "cell_type": "code",
   "execution_count": 4,
   "id": "9f233580",
   "metadata": {},
   "outputs": [],
   "source": [
    "#Removing the warnings \n",
    "logging.getLogger('allennlp.common.params').disabled = True \n",
    "logging.getLogger('allennlp.nn.initializers').disabled = True \n",
    "logging.getLogger('allennlp.modules.token_embedders.embedding').disabled = True \n",
    "logging.getLogger('urllib3.connectionpool').disabled = True \n",
    "logging.getLogger('allennlp.common.plugins').disabled = True \n",
    "logging.getLogger('allennlp.common.model_card').disabled = True \n",
    "logging.getLogger('allennlp.models.archival').disabled = True \n",
    "logging.getLogger('allennlp.data.vocabulary').disabled = True \n",
    "logging.getLogger('cached_path').disabled = True\n",
    "srl_predictor = load_predictor('structured-prediction-srl')\n",
    "output = srl_predictor.predict(\"John has pets.\")"
   ]
  },
  {
   "cell_type": "code",
   "execution_count": 5,
   "id": "5f378c6d",
   "metadata": {},
   "outputs": [],
   "source": [
    "def predict_srl(data):\n",
    "    \n",
    "    pred = []\n",
    "    for d in data:\n",
    "        pred.append(srl_predictor.predict(d))\n",
    "    return pred\n",
    "\n",
    "predict_and_conf = PredictorWrapper.wrap_predict(predict_srl)"
   ]
  },
  {
   "cell_type": "code",
   "execution_count": 6,
   "id": "d72b94c2",
   "metadata": {},
   "outputs": [],
   "source": [
    "d = [\"John has pets\"]\n",
    "pred = predict_and_conf(d)"
   ]
  },
  {
   "cell_type": "code",
   "execution_count": 7,
   "id": "6da6e01f",
   "metadata": {},
   "outputs": [],
   "source": [
    "def format_srl(x, pred, conf, label=None, meta=None):\n",
    "    \n",
    "    return pred['verbs'][0]['description']"
   ]
  },
  {
   "cell_type": "code",
   "execution_count": 8,
   "id": "fedb9f4a",
   "metadata": {},
   "outputs": [],
   "source": [
    "def get_arg(pred, arg_target='ARG0'):\n",
    "    predicate_arguments = pred['verbs'][0]\n",
    "    #print(predicate_arguments)\n",
    "    words = pred['words']\n",
    "    tags = predicate_arguments['tags']\n",
    "    \n",
    "    arg_list = []\n",
    "    for t, w in zip(tags, words):\n",
    "        arg = t\n",
    "        if '-' in t:\n",
    "            arg = t.split('-')[1]\n",
    "        if arg == arg_target:\n",
    "            arg_list.append(w)\n",
    "    arg_set = set(arg_list)\n",
    "    return arg_set"
   ]
  },
  {
   "cell_type": "code",
   "execution_count": 9,
   "id": "3a8d0f86",
   "metadata": {},
   "outputs": [],
   "source": [
    "def format_srl(x, pred, conf, label=None, meta=None):\n",
    "    results = []\n",
    "    predicate_structure = pred['verbs'][0]['description']\n",
    "        \n",
    "    return predicate_structure"
   ]
  },
  {
   "cell_type": "code",
   "execution_count": 10,
   "id": "cea9efc3",
   "metadata": {},
   "outputs": [],
   "source": [
    "def found_arg0_people(x, pred, conf, label=None, meta=None):\n",
    "    \n",
    "    # people should be recognized as arg1\n",
    "\n",
    "    people = set([meta['first_name']])\n",
    "    arg_0 = get_arg(pred, arg_target='ARG0')\n",
    "\n",
    "    if arg_0 == people:\n",
    "        pass_ = True\n",
    "    else:\n",
    "        pass_ = False\n",
    "    return pass_\n",
    "\n",
    "\n",
    "expect_arg0 = Expect.single(found_arg0_people)"
   ]
  },
  {
   "cell_type": "code",
   "execution_count": 11,
   "id": "a158eb36",
   "metadata": {
    "scrolled": true
   },
   "outputs": [],
   "source": [
    "editor = Editor()\n",
    "\n",
    "# create examples\n",
    "t = editor.template('{first_name} has pets.', meta=True, nsamples=1000, remove_duplicates = True)\n",
    "\n",
    "#print(type(t))\n",
    "\n",
    "# for k, v in t.items():\n",
    "#     print(k, v)"
   ]
  },
  {
   "cell_type": "code",
   "execution_count": 12,
   "id": "78e9c97e",
   "metadata": {},
   "outputs": [],
   "source": [
    "with open('Dataset_BiLSTM/Without_Negation.txt', 'w') as f:\n",
    "    print(t.data, file = f)"
   ]
  },
  {
   "cell_type": "code",
   "execution_count": 13,
   "id": "6daa0f5f",
   "metadata": {
    "scrolled": true
   },
   "outputs": [
    {
     "name": "stdout",
     "output_type": "stream",
     "text": [
      "Predicting 1000 examples\n",
      "Test cases:      1000\n",
      "Fails (rate):    0 (0.0%)\n"
     ]
    }
   ],
   "source": [
    "# initialize a rest object\n",
    "test = MFT(**t, name = 'detect_arg0_name_default_position', expect=expect_arg0)\n",
    "output = test.run(predict_and_conf)\n",
    "test.summary(format_example_fn=format_srl)\n",
    "i = test.results['preds']\n",
    "expect_for_i = test.results['expect_results']\n",
    "with open ('Output_BiLSTM/Without_negation.csv','w') as f:\n",
    "    writer = csv.writer(f)\n",
    "    for result, exp in zip(i, expect_for_i):\n",
    "        \n",
    "        case = result['words']\n",
    "        exp = exp\n",
    "        writer.writerow([case, exp])\n",
    "        #print(case,exp)"
   ]
  },
  {
   "cell_type": "code",
   "execution_count": 14,
   "id": "f5b867e2",
   "metadata": {},
   "outputs": [],
   "source": [
    "# the following piece of code was adapted from https://howtodoinjava.com/examples/python-print-to-file/\n",
    "import sys\n",
    "original_stdout = sys.stdout  \n",
    " \n",
    "with open('Predictions_BiLSTM/false_sentences_without_negation.txt', 'a') as f:\n",
    "    sys.stdout = f \n",
    "    print(test.summary(format_example_fn=format_srl), file = f)\n",
    "    # Reset the standard output\n",
    "    sys.stdout = original_stdout "
   ]
  },
  {
   "cell_type": "markdown",
   "id": "68fb7ff7",
   "metadata": {},
   "source": [
    "## Adding Negation "
   ]
  },
  {
   "cell_type": "code",
   "execution_count": 15,
   "id": "a8cb0e84",
   "metadata": {
    "scrolled": true
   },
   "outputs": [],
   "source": [
    "editor = Editor()\n",
    "\n",
    "# create examples\n",
    "t = editor.template('{first_name} has no pets.', meta=True, nsamples=1000, remove_duplicates = True)\n",
    "\n",
    "#print(type(t))\n",
    "\n",
    "# for k, v in t.items():\n",
    "#     print(k, v)"
   ]
  },
  {
   "cell_type": "code",
   "execution_count": 16,
   "id": "1d2e723f",
   "metadata": {},
   "outputs": [],
   "source": [
    "with open('Dataset_BiLSTM/With_Negation.txt', 'w') as f:\n",
    "    print(t.data, file = f)"
   ]
  },
  {
   "cell_type": "code",
   "execution_count": 17,
   "id": "827813ab",
   "metadata": {},
   "outputs": [
    {
     "name": "stdout",
     "output_type": "stream",
     "text": [
      "Predicting 1000 examples\n",
      "Test cases:      1000\n",
      "Fails (rate):    5 (0.5%)\n",
      "\n",
      "Example fails:\n",
      "[ARGM-DIS: Andrea] [V: has] [ARG1: no pets] .\n",
      "----\n",
      "[ARGM-DIS: Andrea] [V: has] [ARG1: no pets] .\n",
      "----\n",
      "[ARGM-DIS: Andrea] [V: has] [ARG1: no pets] .\n",
      "----\n"
     ]
    }
   ],
   "source": [
    "# initialize a rest object\n",
    "test = MFT(**t, name = 'detect_arg0_name_default_position', expect=expect_arg0)\n",
    "output = test.run(predict_and_conf)\n",
    "test.summary(format_example_fn=format_srl)\n",
    "i = test.results['preds']\n",
    "expect_for_i = test.results['expect_results']\n",
    "with open ('Output_BiLSTM/With_Negation.csv','w') as f:\n",
    "    writer = csv.writer(f)\n",
    "    for result, exp in zip(i, expect_for_i):\n",
    "        \n",
    "        case = result['words']\n",
    "        exp = exp\n",
    "        writer.writerow([case, exp])\n",
    "#         print(case,exp)"
   ]
  },
  {
   "cell_type": "code",
   "execution_count": 18,
   "id": "b6a6fef5",
   "metadata": {},
   "outputs": [],
   "source": [
    "# the following piece of code was adapted from https://howtodoinjava.com/examples/python-print-to-file/\n",
    "import sys\n",
    "original_stdout = sys.stdout  \n",
    " \n",
    "with open('Predictions_BiLSTM/false_sentences_with_negation.txt', 'a') as f:\n",
    "    sys.stdout = f \n",
    "    print(test.summary(format_example_fn=format_srl), file = f)\n",
    "    # Reset the standard output\n",
    "    sys.stdout = original_stdout "
   ]
  }
 ],
 "metadata": {
  "kernelspec": {
   "display_name": "Python 3 (ipykernel)",
   "language": "python",
   "name": "python3"
  },
  "language_info": {
   "codemirror_mode": {
    "name": "ipython",
    "version": 3
   },
   "file_extension": ".py",
   "mimetype": "text/x-python",
   "name": "python",
   "nbconvert_exporter": "python",
   "pygments_lexer": "ipython3",
   "version": "3.9.7"
  }
 },
 "nbformat": 4,
 "nbformat_minor": 5
}
