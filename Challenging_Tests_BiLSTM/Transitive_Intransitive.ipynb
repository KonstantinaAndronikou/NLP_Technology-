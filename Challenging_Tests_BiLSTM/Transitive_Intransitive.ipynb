{
 "cells": [
  {
   "cell_type": "markdown",
   "id": "ccb60965",
   "metadata": {},
   "source": [
    "### Konstantina Andronikou"
   ]
  },
  {
   "cell_type": "markdown",
   "id": "69670f4c",
   "metadata": {},
   "source": [
    "## Transitive Vs Intransitive Verbs "
   ]
  },
  {
   "cell_type": "code",
   "execution_count": 1,
   "id": "7c44f7a8",
   "metadata": {},
   "outputs": [],
   "source": [
    "from allennlp_models.pretrained import load_predictor"
   ]
  },
  {
   "cell_type": "code",
   "execution_count": 2,
   "id": "43bad10e",
   "metadata": {},
   "outputs": [],
   "source": [
    "import checklist\n",
    "import logging \n",
    "import csv\n",
    "from checklist.editor import Editor\n",
    "from checklist.perturb import Perturb\n",
    "from checklist.test_types import MFT, INV, DIR\n",
    "from checklist.expect import Expect"
   ]
  },
  {
   "cell_type": "code",
   "execution_count": 3,
   "id": "9ee2ca81",
   "metadata": {},
   "outputs": [],
   "source": [
    "from checklist.pred_wrapper import PredictorWrapper"
   ]
  },
  {
   "cell_type": "markdown",
   "id": "316c13ab",
   "metadata": {},
   "source": [
    "## Intransitive "
   ]
  },
  {
   "cell_type": "code",
   "execution_count": 4,
   "id": "26e70e45",
   "metadata": {},
   "outputs": [],
   "source": [
    "# remove warnings\n",
    "logging.getLogger('allennlp.common.params').disabled = True \n",
    "logging.getLogger('allennlp.nn.initializers').disabled = True \n",
    "logging.getLogger('allennlp.modules.token_embedders.embedding').disabled = True \n",
    "logging.getLogger('urllib3.connectionpool').disabled = True \n",
    "logging.getLogger('allennlp.common.plugins').disabled = True \n",
    "logging.getLogger('allennlp.common.model_card').disabled = True \n",
    "logging.getLogger('allennlp.models.archival').disabled = True \n",
    "logging.getLogger('allennlp.data.vocabulary').disabled = True \n",
    "logging.getLogger('cached_path').disabled = True\n",
    "srl_predictor = load_predictor('structured-prediction-srl')\n",
    "output = srl_predictor.predict(\"Carla pays\")"
   ]
  },
  {
   "cell_type": "code",
   "execution_count": 5,
   "id": "34dfaaf0",
   "metadata": {},
   "outputs": [],
   "source": [
    "def predict_srl(data):\n",
    "    \n",
    "    pred = []\n",
    "    for d in data:\n",
    "        pred.append(srl_predictor.predict(d))\n",
    "    return pred\n",
    "\n",
    "predict_and_conf = PredictorWrapper.wrap_predict(predict_srl)"
   ]
  },
  {
   "cell_type": "code",
   "execution_count": 6,
   "id": "33de9141",
   "metadata": {},
   "outputs": [],
   "source": [
    "d = [\"Carla pays\"]\n",
    "pred = predict_and_conf(d)"
   ]
  },
  {
   "cell_type": "code",
   "execution_count": 7,
   "id": "e38ccfdc",
   "metadata": {},
   "outputs": [],
   "source": [
    "def format_srl(x, pred, conf, label=None, meta=None):\n",
    "    \n",
    "    return pred['verbs'][0]['description']"
   ]
  },
  {
   "cell_type": "code",
   "execution_count": 8,
   "id": "61ab6e23",
   "metadata": {},
   "outputs": [],
   "source": [
    "def get_arg(pred, arg_target='ARG0'):\n",
    "    predicate_arguments = pred['verbs'][0]\n",
    "    words = pred['words']\n",
    "    tags = predicate_arguments['tags']\n",
    "    \n",
    "    arg_list = []\n",
    "    for t, w in zip(tags, words):\n",
    "        arg = t\n",
    "        if '-' in t:\n",
    "            arg = t.split('-')[1]\n",
    "        if arg == arg_target:\n",
    "            arg_list.append(w)\n",
    "    arg_set = set(arg_list)\n",
    "    return arg_set"
   ]
  },
  {
   "cell_type": "code",
   "execution_count": 9,
   "id": "d1f873b4",
   "metadata": {},
   "outputs": [],
   "source": [
    "def format_srl(x, pred, conf, label=None, meta=None):\n",
    "    results = []\n",
    "    predicate_structure = pred['verbs'][0]['description']\n",
    "        \n",
    "    return predicate_structure"
   ]
  },
  {
   "cell_type": "code",
   "execution_count": 10,
   "id": "05068184",
   "metadata": {},
   "outputs": [],
   "source": [
    "def found_arg0_people(x, pred, conf, label=None, meta=None):\n",
    "\n",
    "    people = set([meta['first_name']])\n",
    "    arg_0 = get_arg(pred, arg_target='ARG0')\n",
    "\n",
    "    if arg_0 == people:\n",
    "        pass_ = True\n",
    "    else:\n",
    "        pass_ = False\n",
    "    return pass_\n",
    "\n",
    "\n",
    "expect_arg0 = Expect.single(found_arg0_people)"
   ]
  },
  {
   "cell_type": "code",
   "execution_count": 11,
   "id": "c9841638",
   "metadata": {},
   "outputs": [],
   "source": [
    "editor = Editor()\n",
    "\n",
    "# create examples\n",
    "t = editor.template('{first_name} pays', meta=True, nsamples=1000, remove_duplicates = True)\n",
    "\n",
    "# for k, v in t.items():\n",
    "#     print(k,v)"
   ]
  },
  {
   "cell_type": "code",
   "execution_count": 12,
   "id": "691d1730",
   "metadata": {},
   "outputs": [],
   "source": [
    "with open('Dataset_BiLSTM/Intransitive.txt', 'w') as f:\n",
    "    print(t.data, file = f)"
   ]
  },
  {
   "cell_type": "code",
   "execution_count": 13,
   "id": "60e63f48",
   "metadata": {},
   "outputs": [
    {
     "name": "stdout",
     "output_type": "stream",
     "text": [
      "Predicting 1000 examples\n",
      "Test cases:      1000\n",
      "Fails (rate):    7 (0.7%)\n",
      "\n",
      "Example fails:\n",
      "[ARG1: Lawrence] [V: pays]\n",
      "----\n",
      "[ARG1: Alexandra] [V: pays]\n",
      "----\n",
      "[ARG1: Lawrence] [V: pays]\n",
      "----\n"
     ]
    }
   ],
   "source": [
    "test = MFT(**t, name = 'detect_arg0name_default_position', expect=expect_arg0)\n",
    "output = test.run(predict_and_conf)\n",
    "test.summary(format_example_fn=format_srl)\n",
    "i = test.results['preds']\n",
    "expect_for_i = test.results['expect_results']\n",
    "with open ('Output_BiLSTM/Intransitive.csv','w') as f:\n",
    "    writer = csv.writer(f)\n",
    "    for result, exp in zip(i, expect_for_i):\n",
    "        \n",
    "        case = result['words']\n",
    "        exp = exp\n",
    "        writer.writerow([case, exp])\n",
    "        #print(case,exp)"
   ]
  },
  {
   "cell_type": "code",
   "execution_count": 14,
   "id": "17b05f41",
   "metadata": {},
   "outputs": [],
   "source": [
    "# the following piece of code was adapted from https://howtodoinjava.com/examples/python-print-to-file/\n",
    "import sys\n",
    "original_stdout = sys.stdout  \n",
    " \n",
    "with open('Predictions_BiLSTM/false_sentences_Intransitive.txt', 'a') as f:\n",
    "    sys.stdout = f \n",
    "    print(test.summary(format_example_fn=format_srl), file = f)\n",
    "    # Reset the standard output\n",
    "    sys.stdout = original_stdout "
   ]
  },
  {
   "cell_type": "markdown",
   "id": "5158805d",
   "metadata": {},
   "source": [
    "## Transitive "
   ]
  },
  {
   "cell_type": "code",
   "execution_count": 15,
   "id": "f666d892",
   "metadata": {},
   "outputs": [],
   "source": [
    "def format_srl(x, pred, conf, label=None, meta=None):\n",
    "    \n",
    "    return pred['verbs'][0]['description']"
   ]
  },
  {
   "cell_type": "code",
   "execution_count": 16,
   "id": "1dac1e90",
   "metadata": {},
   "outputs": [],
   "source": [
    "def get_arg(pred, arg_target='ARG0'):\n",
    "    predicate_arguments = pred['verbs'][0]\n",
    "    words = pred['words']\n",
    "    tags = predicate_arguments['tags']\n",
    "    \n",
    "    arg_list = []\n",
    "    for t, w in zip(tags, words):\n",
    "        arg = t\n",
    "        if '-' in t:\n",
    "            arg = t.split('-')[1]\n",
    "        if arg == arg_target:\n",
    "            arg_list.append(w)\n",
    "    arg_set = set(arg_list)\n",
    "    return arg_set"
   ]
  },
  {
   "cell_type": "code",
   "execution_count": 17,
   "id": "746b7593",
   "metadata": {},
   "outputs": [],
   "source": [
    "def format_srl(x, pred, conf, label=None, meta=None):\n",
    "    results = []\n",
    "    predicate_structure = pred['verbs'][0]['description']\n",
    "        \n",
    "    return predicate_structure"
   ]
  },
  {
   "cell_type": "code",
   "execution_count": 18,
   "id": "2c582ba3",
   "metadata": {},
   "outputs": [],
   "source": [
    "def found_arg0_people(x, pred, conf, label=None, meta=None):\n",
    "    \n",
    "    # people should be recognized as arg1\n",
    "\n",
    "    people = set([meta['first_name']])\n",
    "    arg_0 = get_arg(pred, arg_target='ARG0')\n",
    "\n",
    "    if arg_0 == people:\n",
    "        pass_ = True\n",
    "    else:\n",
    "        pass_ = False\n",
    "    return pass_\n",
    "\n",
    "\n",
    "expect_arg0 = Expect.single(found_arg0_people)"
   ]
  },
  {
   "cell_type": "code",
   "execution_count": 19,
   "id": "bc479555",
   "metadata": {},
   "outputs": [],
   "source": [
    "editor = Editor()\n",
    "\n",
    "# create examples\n",
    "t = editor.template('{first_name} pays for coffee.', meta=True, nsamples=1000, remove_duplicates = True)\n",
    "\n",
    "#print(type(t))\n",
    "\n",
    "# for k, v in t.items():\n",
    "#     print(k, v)"
   ]
  },
  {
   "cell_type": "code",
   "execution_count": 20,
   "id": "75445b0b",
   "metadata": {},
   "outputs": [],
   "source": [
    "with open('Dataset_BiLSTM/Transitive.txt', 'w') as f:\n",
    "    print(t.data, file = f)"
   ]
  },
  {
   "cell_type": "code",
   "execution_count": 21,
   "id": "b06bf3bb",
   "metadata": {},
   "outputs": [
    {
     "name": "stdout",
     "output_type": "stream",
     "text": [
      "Predicting 1000 examples\n",
      "Test cases:      1000\n",
      "Fails (rate):    25 (2.5%)\n",
      "\n",
      "Example fails:\n",
      "[ARG1: Sally] [V: pays] [ARG3: for coffee] .\n",
      "----\n",
      "[ARG1: Alison] [V: pays] [ARG3: for coffee] .\n",
      "----\n",
      "[ARG1: Margaret] [V: pays] [ARG3: for coffee] .\n",
      "----\n"
     ]
    }
   ],
   "source": [
    "# initialize a rest object\n",
    "test = MFT(**t, name = 'detect_arg0_name_default_position', expect=expect_arg0)\n",
    "output = test.run(predict_and_conf)\n",
    "test.summary(format_example_fn=format_srl)\n",
    "i = test.results['preds']\n",
    "expect_for_i = test.results['expect_results']\n",
    "with open ('Output_BiLSTM/Transitive.csv','w') as f:\n",
    "    writer = csv.writer(f)\n",
    "    for result, exp in zip(i, expect_for_i):\n",
    "        \n",
    "        case = result['words']\n",
    "        exp = exp\n",
    "        writer.writerow([case, exp])\n",
    "        #print(case,exp)"
   ]
  },
  {
   "cell_type": "code",
   "execution_count": 22,
   "id": "059de823",
   "metadata": {},
   "outputs": [],
   "source": [
    "# the following piece of code was adapted from https://howtodoinjava.com/examples/python-print-to-file/\n",
    "import sys\n",
    "original_stdout = sys.stdout  \n",
    " \n",
    "with open('Predictions_BiLSTM/false_sentences_Transitive.txt', 'a') as f:\n",
    "    sys.stdout = f \n",
    "    print(test.summary(format_example_fn=format_srl), file = f)\n",
    "    # Reset the standard output\n",
    "    sys.stdout = original_stdout "
   ]
  },
  {
   "cell_type": "markdown",
   "id": "6ca427c5",
   "metadata": {},
   "source": [
    "## Transitive-Intransitive Robustness Test"
   ]
  },
  {
   "cell_type": "code",
   "execution_count": 23,
   "id": "72060c2e",
   "metadata": {},
   "outputs": [],
   "source": [
    "editor = Editor()\n",
    "\n",
    "# create examples\n",
    "t = editor.template('{first_name} payed.', meta=True, nsamples=1000, remove_duplicates = True)\n",
    "\n",
    "#print(type(t))"
   ]
  },
  {
   "cell_type": "code",
   "execution_count": 24,
   "id": "c54e7a01",
   "metadata": {},
   "outputs": [],
   "source": [
    "with open('Dataset_BiLSTM/Intransitive_Rob.txt', 'w') as f:\n",
    "    print(t.data, file = f)"
   ]
  },
  {
   "cell_type": "code",
   "execution_count": 25,
   "id": "280baff1",
   "metadata": {},
   "outputs": [
    {
     "name": "stdout",
     "output_type": "stream",
     "text": [
      "Predicting 1000 examples\n",
      "Test cases:      1000\n",
      "Fails (rate):    337 (33.7%)\n",
      "\n",
      "Example fails:\n",
      "[ARGM-MNR: Ian] [V: payed] .\n",
      "----\n",
      "Grace [V: payed] .\n",
      "----\n",
      "[ARG1: Bobby] [V: payed] .\n",
      "----\n"
     ]
    }
   ],
   "source": [
    "# initialize a rest object\n",
    "test = MFT(**t, name = 'detect_arg0_name_default_position', expect=expect_arg0)\n",
    "output = test.run(predict_and_conf)\n",
    "test.summary(format_example_fn=format_srl)\n",
    "i = test.results['preds']\n",
    "expect_for_i = test.results['expect_results']\n",
    "with open ('Output_BiLSTM/Intransitive_Rob.csv','w') as f:\n",
    "    writer = csv.writer(f)\n",
    "    for result, exp in zip(i, expect_for_i):\n",
    "        \n",
    "        case = result['words']\n",
    "        exp = exp\n",
    "        writer.writerow([case, exp])\n",
    "        #print(case,exp)"
   ]
  },
  {
   "cell_type": "code",
   "execution_count": 26,
   "id": "de6a954f",
   "metadata": {},
   "outputs": [],
   "source": [
    "# the following piece of code was adapted from https://howtodoinjava.com/examples/python-print-to-file/\n",
    "import sys\n",
    "original_stdout = sys.stdout  \n",
    " \n",
    "with open('Predictions_BiLSTM/false_sentences_Intransitive_Rob.txt', 'a') as f:\n",
    "    sys.stdout = f \n",
    "    print(test.summary(format_example_fn=format_srl), file = f)\n",
    "    # Reset the standard output\n",
    "    sys.stdout = original_stdout "
   ]
  },
  {
   "cell_type": "markdown",
   "id": "29c60186",
   "metadata": {},
   "source": [
    "## Transitive"
   ]
  },
  {
   "cell_type": "code",
   "execution_count": 28,
   "id": "8c1f5820",
   "metadata": {},
   "outputs": [],
   "source": [
    "editor = Editor()\n",
    "\n",
    "# create examples\n",
    "t = editor.template('{first_name} payed for coffee.', meta=True, nsamples=1000, remove_duplicates = True)\n",
    "\n",
    "#print(type(t))\n",
    "\n",
    "# for k, v in t.items():\n",
    "    #print(k, v)"
   ]
  },
  {
   "cell_type": "code",
   "execution_count": 29,
   "id": "8804e5a8",
   "metadata": {},
   "outputs": [],
   "source": [
    "with open('Dataset_BiLSTM/Transitive_Rob.txt', 'w') as f:\n",
    "    print(t.data, file = f)"
   ]
  },
  {
   "cell_type": "code",
   "execution_count": 30,
   "id": "0a7c4bb5",
   "metadata": {},
   "outputs": [
    {
     "name": "stdout",
     "output_type": "stream",
     "text": [
      "Predicting 1000 examples\n",
      "Test cases:      1000\n",
      "Fails (rate):    494 (49.4%)\n",
      "\n",
      "Example fails:\n",
      "[ARGM-MNR: Matt] [V: payed] [ARG1: for coffee] .\n",
      "----\n",
      "Jessica [V: payed] [ARG1: for coffee] .\n",
      "----\n",
      "[ARGM-MNR: Alex] [V: payed] [ARG1: for coffee] .\n",
      "----\n"
     ]
    }
   ],
   "source": [
    "# initialize a rest object\n",
    "test = MFT(**t, name = 'detect_arg0_name_default_position', expect=expect_arg0)\n",
    "output = test.run(predict_and_conf)\n",
    "test.summary(format_example_fn=format_srl)\n",
    "i = test.results['preds']\n",
    "expect_for_i = test.results['expect_results']\n",
    "with open ('Output_BiLSTM/Transitive_Rob.csv','w') as f:\n",
    "    writer = csv.writer(f)\n",
    "    for result, exp in zip(i, expect_for_i):\n",
    "        \n",
    "        case = result['words']\n",
    "        exp = exp\n",
    "        writer.writerow([case, exp])\n",
    "        #print(case,exp)"
   ]
  },
  {
   "cell_type": "code",
   "execution_count": 31,
   "id": "aa014ef2",
   "metadata": {},
   "outputs": [],
   "source": [
    "# the following piece of code was adapted from https://howtodoinjava.com/examples/python-print-to-file/\n",
    "import sys\n",
    "original_stdout = sys.stdout  \n",
    " \n",
    "with open('Predictions_BiLSTM/false_sentences_Transitive_Rob.txt', 'a') as f:\n",
    "    sys.stdout = f \n",
    "    print(test.summary(format_example_fn=format_srl), file = f)\n",
    "    # Reset the standard output\n",
    "    sys.stdout = original_stdout "
   ]
  }
 ],
 "metadata": {
  "kernelspec": {
   "display_name": "Python 3 (ipykernel)",
   "language": "python",
   "name": "python3"
  },
  "language_info": {
   "codemirror_mode": {
    "name": "ipython",
    "version": 3
   },
   "file_extension": ".py",
   "mimetype": "text/x-python",
   "name": "python",
   "nbconvert_exporter": "python",
   "pygments_lexer": "ipython3",
   "version": "3.9.7"
  }
 },
 "nbformat": 4,
 "nbformat_minor": 5
}
